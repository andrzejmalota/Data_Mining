{
 "cells": [
  {
   "cell_type": "code",
   "execution_count": 1,
   "metadata": {},
   "outputs": [
    {
     "name": "stdout",
     "output_type": "stream",
     "text": [
      "Automatically created module for IPython interactive environment\n"
     ]
    }
   ],
   "source": [
    "print(__doc__)\n"
   ]
  },
  {
   "cell_type": "code",
   "execution_count": 2,
   "metadata": {},
   "outputs": [],
   "source": [
    "from sklearn.decomposition import PCA\n",
    "import numpy as np\n",
    "import matplotlib.pyplot as plt\n",
    "from scipy import stats\n",
    "import pandas as pd"
   ]
  },
  {
   "cell_type": "code",
   "execution_count": 3,
   "metadata": {},
   "outputs": [],
   "source": [
    "df = pd.read_csv('./nyt-frame.csv', header = 0)"
   ]
  },
  {
   "cell_type": "code",
   "execution_count": 4,
   "metadata": {},
   "outputs": [],
   "source": [
    "original_headers = list(df.columns.values)"
   ]
  },
  {
   "cell_type": "code",
   "execution_count": 5,
   "metadata": {},
   "outputs": [
    {
     "name": "stdout",
     "output_type": "stream",
     "text": [
      "['Unnamed: 0', 'class.labels', 'X.', 'X.d', 'X.nd', 'X.s', 'X.th', 'X.this', 'a', 'abandoned', 'abc', 'ability', 'able', 'about', 'above', 'abroad', 'absorbed', 'absorbing', 'abstract', 'abstraction', 'abstractions', 'abundance', 'academic', 'academy', 'accents', 'accept', 'access', 'accessible', 'acclaimed', 'accommodate', 'accompanied', 'accompanying', 'according', 'accordingly', 'account', 'accounted', 'accused', 'achieved', 'achievement', 'acknowledge', 'acknowledged', 'acquired', 'acquisition', 'acquisitions', 'acre', 'across', 'acrylics', 'act', 'acted', 'acting', 'action', 'actions', 'active', 'activities', 'actor', 'actors', 'actress', 'acts', 'actually', 'adam', 'adams', 'adamss', 'adaptation', 'add', 'added', 'adding', 'addition', 'additional', 'address', 'addresses', 'adds', 'adhering', 'adjacent', 'administration', 'admired', 'admission', 'admits', 'adopted', 'ads', 'adults', 'advance', 'advanced', 'advantage', 'adventure', 'adventurous', 'advertisements', 'advertising', 'advice', 'advised', 'adviser', 'advising', 'advocates', 'aesthetic', 'affair', 'affairs', 'affect', 'affected', 'affection', 'afford', 'afraid', 'africa', 'african', 'africas', 'after', 'afternoon', 'afterward', 'again', 'against', 'age', 'agent', 'aggressive', 'aging', 'ago', 'agree', 'agreed', 'agreement', 'ahead', 'aim', 'air', 'airy', 'alain', 'alan', 'albeit', 'albert', 'album', 'alert', 'alfred', 'alice', 'alien', 'alienation', 'aligned', 'alive', 'all', 'allen', 'alliance', 'alliances', 'allow', 'allowed', 'allowing', 'allows', 'allude', 'allusions', 'almost', 'alone', 'along', 'already', 'also', 'alter', 'alternate', 'alternates', 'alternative', 'although', 'always', 'am', 'ambiguous', 'ambiguously', 'ambition', 'ambitions', 'ambitious', 'america', 'american', 'americans', 'amid', 'among', 'amount', 'amsterdam', 'amusement', 'amy', 'an', 'analysis', 'anchored', 'ancient', 'and', 'andrea', 'andrew', 'andy', 'angeles', 'angels', 'anger', 'angry', 'animal', 'animals', 'animated', 'ann', 'anne', 'anniversary', 'announced', 'annual', 'anonymous', 'another', 'ansel', 'answer', 'anthony', 'anti', 'antonio', 'anxiety', 'any', 'anyone', 'anything', 'anyway', 'apart', 'apartment', 'apparent', 'apparently', 'appealing', 'appear', 'appearance', 'appearances', 'appeared', 'appearing', 'appears', 'applause', 'apple', 'applies', 'appreciate', 'appreciation', 'apprehension', 'approach', 'approached', 'approaches', 'appropriate', 'approval', 'approve', 'approved', 'april', 'archetypal', 'architect', 'architects', 'architectural', 'architecture', 'are', 'areas', 'arent', 'aria', 'arm', 'arms', 'arose', 'around', 'arranged', 'arrangement', 'arrangements', 'arrested', 'arrive', 'arrived', 'art', 'arte', 'artful', 'arthur', 'article', 'artifacts', 'artificial', 'artist', 'artistic', 'artists', 'arts', 'artwork', 'artworks', 'as', 'aside', 'ask', 'asked', 'aspects', 'assemblages', 'assembled', 'assertion', 'assistants', 'associate', 'associated', 'association', 'associations', 'assumed', 'assurance', 'at', 'atheneum', 'atlantic', 'atmosphere', 'attempt', 'attempts', 'attended', 'attending', 'attention', 'attitude', 'attitudes', 'attorney', 'attract', 'attracted', 'au', 'auction', 'audacity', 'audience', 'audiences', 'auditorium', 'aug', 'august', 'austin', 'austria', 'authentic', 'author', 'authorities', 'authority', 'autobiographical', 'autobiography', 'available', 'avant', 'avenue', 'avoid', 'award', 'awards', 'aware', 'awareness', 'away', 'awe', 'awkward', 'axis', 'b', 'babies', 'baby', 'back', 'backdrop', 'backers', 'background', 'backgrounds', 'backing', 'backstage', 'backward', 'bacon', 'bad', 'badly', 'baker', 'balance', 'balanced', 'ball', 'ballad', 'ballet', 'balloon', 'bamboo', 'banal', 'banality', 'band', 'bands', 'bank', 'banks', 'bar', 'bare', 'barefoot', 'barely', 'baritone', 'baroque', 'barrel', 'barriers', 'based', 'basic', 'basis', 'bass', 'bathed', 'battle', 'bay', 'be', 'beach', 'bear', 'beat', 'beating', 'beautiful', 'beautifully', 'beauty', 'beaux', 'became', 'because', 'become', 'becomes', 'bed', 'been', 'beethovens', 'before', 'began', 'begin', 'beginning', 'begins', 'begun', 'behavior', 'behest', 'behind', 'beige', 'being', 'believe', 'believed', 'believes', 'believing', 'below', 'ben', 'beneath', 'bergman', 'berlin', 'bernard', 'bernstein', 'besides', 'best', 'better', 'between', 'beverly', 'beyond', 'big', 'bigger', 'biggest', 'bill', 'billboards', 'billion', 'bills', 'billy', 'biographer', 'bird', 'birds', 'birth', 'bit', 'bits', 'bizarre', 'black', 'blackness', 'blacks', 'blake', 'blank', 'blanket', 'blast', 'bleak', 'blend', 'blended', 'blessed', 'block', 'blocks', 'blood', 'bloom', 'blow', 'blue', 'blues', 'blunt', 'blurring', 'board', 'bob', 'bodies', 'bodily', 'body', 'bohemia', 'bonus', 'boogie', 'book', 'books', 'boom', 'boost', 'booth', 'border', 'borders', 'bored', 'born', 'boston', 'both', 'bottom', 'bought', 'boulder', 'boulevard', 'bounced', 'bound', 'boundaries', 'bounds', 'bourgeois', 'bowl', 'box', 'boxes', 'boy', 'brahms', 'brancusi', 'brand', 'brandywine', 'brant', 'brass', 'bravado', 'brave', 'bread', 'break.', 'breaking', 'breakthrough', 'breathed', 'breathing', 'brian', 'brice', 'brick', 'bridge', 'bridges', 'brief', 'briefing', 'briefly', 'bright', 'brilliant', 'bring', 'brings', 'britain', 'british', 'broad', 'broadcast', 'broadcasting', 'broadway', 'broke', 'broker', 'bronze', 'bronzes', 'brooding', 'brook', 'brooklyn', 'brother', 'brothers', 'brought', 'brown', 'bruce', 'brushed', 'brushes', 'bubble', 'budding', 'budget', 'build', 'building', 'buildings', 'built', 'bull', 'bunch', 'buried', 'burleigh', 'burned', 'burton', 'bus', 'bush', 'bushy', 'busiest', 'business', 'businessman', 'bust', 'busy', 'but', 'butch', 'butter', 'buy', 'buying', 'buzz', 'by', 'c', 'cabaret', 'cable', 'cafe', 'calif', 'california', 'call', 'called', 'calling', 'calls', 'calm', 'calvin', 'cambridge', 'came', 'camera', 'campaign', 'campus', 'can', 'canada', 'canadian', 'canal', 'canceled', 'cannot', 'cans', 'cant', 'canvas', 'canvases', 'cap', 'capacity', 'capital', 'captain', 'captivated', 'capture', 'captured', 'captures', 'car', 'care', 'career', 'careers', 'carlo', 'carnegie', 'carol', 'carousel', 'carried', 'carries', 'carry', 'carrying', 'cars', 'cartoon', 'cartoons', 'carved', 'case', 'cast', 'casting', 'casts', 'casual', 'cat', 'catalog', 'catalogue', 'catastrophe', 'catch', 'categorically', 'category', 'cathedral', 'catherine', 'catholic', 'caught', 'cause', 'caused', 'cautious', 'cbs', 'cd', 'cease', 'ceiling', 'celebrate', 'celebrated', 'celebrates', 'celebration', 'celebratory', 'cellist', 'cement', 'center', 'centerpiece', 'centers', 'central', 'centuries', 'century', 'cerebral', 'ceremony', 'certain', 'certainly', 'certificate', 'chadds', 'chair', 'chairman', 'challenge', 'chamber', 'championships', 'chance', 'change', 'changed', 'changes', 'changing', 'channel', 'chanting', 'chapin', 'chapter', 'character', 'characteristic', 'characters', 'charcoal', 'charge', 'charles', 'charm', 'cheaper', 'check', 'checks', 'cheered', 'cheerful', 'chef', 'chelsea', 'chemical', 'chest', 'chic', 'chicago', 'chief', 'child', 'children', 'childrens', 'childs', 'china', 'chinese', 'chips', 'choice', 'choices', 'chooses', 'choosing', 'choral', 'chords', 'choreographed', 'choreographer', 'choreography', 'chorus', 'choruses', 'chose', 'chosen', 'chris', 'christian', 'christopher', 'church', 'churchs', 'cinematic', 'circa', 'circle', 'circles', 'cite', 'cited', 'cities', 'citizen', 'citizens', 'city', 'citys', 'civic', 'clarinetist', 'clarity', 'clark', 'class', 'classes', 'classic', 'classical', 'classics', 'clay', 'clear', 'clearly', 'clich', 'clients', 'cliff', 'climate', 'climb', 'clinical', 'clinton', 'clips', 'close', 'closed', 'closely', 'closer', 'closes', 'closing', 'clothes', 'clotted', 'cloying', 'club', 'clubs', 'clue', 'co', 'coast', 'coat', 'coca', 'coincide', 'cola', 'cold', 'cole', 'collaborated', 'collaboration', 'collage', 'colleague', 'colleagues', 'collecting', 'collection', 'collections', 'collective', 'collector', 'collectors', 'college', 'color', 'colored', 'colorful', 'coloring', 'colors', 'columbia', 'column', 'com', 'combination', 'combined', 'combining', 'come', 'comedy', 'comes', 'comfort', 'comic', 'coming', 'command', 'comment', 'commerce', 'commercial', 'commercials', 'commission', 'commissioned', 'commissioner', 'commissions', 'commitment', 'committed', 'committee', 'common', 'community', 'compact', 'compagnie', 'companies', 'company', 'companys', 'compare', 'compared', 'comparison', 'compelling', 'compete', 'competition', 'complained', 'complete', 'completed', 'completely', 'complex', 'complexity', 'complicated', 'component', 'composed', 'composer', 'composers', 'composition', 'compositions', 'computer', 'computers', 'conceived', 'concept', 'conceptual', 'concern', 'concerned', 'concerns', 'concert', 'concerts', 'concluded', 'concludes', 'conclusion', 'concoction', 'concrete', 'condemn', 'condition', 'conduct', 'conducted', 'conductor', 'conference', 'confidence', 'confident', 'confined', 'confirms', 'congress', 'conjunction', 'conn', 'connected', 'connection', 'connections', 'conscious', 'consecutive', 'conservative', 'consider', 'considerable', 'considered', 'consists', 'constantly', 'constructed', 'construction', 'constructions', 'consumer', 'consumers', 'consuming', 'contained', 'contemplative', 'contemporaries', 'contemporary', 'content', 'context', 'continue', 'continued', 'continues', 'continuing', 'contours', 'contract', 'contracts', 'contrast', 'contributed', 'contributes', 'contribution', 'contributions', 'control', 'controlled', 'controversial', 'conventional', 'conventions', 'conversation', 'conveyed', 'convinced', 'convincing', 'cool', 'cooper', 'coordinated', 'copied', 'copyright', 'corcoran', 'cork', 'corner', 'corporate', 'correction', 'corridor', 'cost', 'costs', 'costume', 'costumes', 'cotterart', 'cotton', 'could', 'couldnt', 'council', 'count', 'counter', 'countless', 'countries', 'country', 'countrys', 'county', 'couple', 'coupled', 'couples', 'course', 'court', 'courting', 'cousin', 'cover', 'covered', 'covering', 'covers', 'cowboy', 'cozy', 'crab', 'cracks', 'cradle', 'craft', 'crafty', 'cramer', 'crane', 'crawl', 'crazy', 'cream', 'creamy', 'create', 'created', 'creates', 'creating', 'creation', 'creations', 'creative', 'creatively', 'creativity', 'creatures', 'credit', 'crew', 'critic', 'critical', 'criticized', 'critics', 'cross', 'crowd', 'crowded', 'crowds', 'crucial', 'crude', 'cry', 'crystal', 'cubist', 'cultural', 'culture', 'cumming', 'cummings', 'cunningham', 'curator', 'curators', 'curious', 'curiously', 'current', 'currently', 'curtain', 'customers', 'cut', 'cuts', 'cutting', 'cy', 'cycle', 'cynical', 'd', 'dad', 'dads', 'daily', 'dallas', 'damage', 'damaged', 'dance', 'danced', 'dancer', 'dancers', 'dances', 'dancing', 'danger', 'dark', 'darkened', 'date', 'dates', 'daughter', 'daughters', 'daumier', 'david', 'davis', 'dawn', 'day', 'days', 'daytime', 'dazzling', 'de', 'dead', 'deadline', 'deadly', 'deadpan', 'deal', 'dealer', 'dealers', 'dealing', 'death', 'deborah', 'debt', 'debut', 'debuts', 'dec', 'decade', 'decades', 'december', 'decide', 'decided', 'decidedly', 'deciding', 'decision', 'decorated', 'decorative', 'dedicated', 'deep', 'deeper', 'deeply', 'defiant', 'defined', 'defines', 'defining', 'definition', 'deft', 'degree', 'degrees', 'del', 'delayed', 'delicate', 'delightful', 'demand', 'demanded', 'demands', 'demonstrate', 'denis', 'depart', 'department', 'depict', 'depicted', 'depicting', 'depictions', 'depicts', 'depression', 'depth', 'derived', 'des', 'descending', 'described', 'description', 'design', 'designated', 'designed', 'designers', 'designs', 'desire', 'desperate', 'despite', 'destroyed', 'destruction', 'detached', 'detail', 'details', 'determined', 'develop', 'developed', 'developer', 'developers', 'developing', 'development', 'devised', 'devoted', 'di', 'diamond', 'diana', 'dick', 'did', 'didnt', 'die', 'died', 'difference', 'different', 'differently', 'difficult', 'digital', 'dimension', 'dinner', 'direct', 'directed', 'directing', 'direction', 'directly', 'director', 'directors', 'dirty', 'disappear', 'disaster', 'discover', 'discovered', 'discuss', 'discussed', 'discussing', 'discussion', 'disk', 'display', 'displayed', 'dissolved', 'dissonances', 'distant', 'distinct', 'distinction', 'distinctive', 'distribution', 'district', 'diva', 'dive', 'diverse', 'divided', 'division', 'do', 'documentary', 'does', 'doesnt', 'dog', 'doing', 'dollar', 'dollars', 'dolphin', 'domestic', 'dominated', 'don', 'donald', 'donations', 'done', 'dont', 'door', 'doors', 'dot', 'dots', 'double', 'doubling', 'doubt', 'doug', 'douglas', 'down', 'dozen', 'dozens', 'dr', 'drafted', 'drama', 'dramatic', 'draw', 'drawing', 'drawings', 'drawn', 'dream', 'dreamily', 'dreaming', 'dreamlike', 'dreams', 'dress', 'dressed', 'dresses', 'drew', 'drift', 'drifted', 'drinking', 'drive', 'driven', 'driving', 'drummer', 'dry', 'du', 'due', 'duet', 'duke', 'dumpy', 'during', 'dutch', 'dynamic', 'dynasty', 'e', 'each', 'eager', 'eagerly', 'eagerness', 'ear', 'earlier', 'early', 'earned', 'earnest', 'earth', 'earthly', 'easel', 'easily', 'east', 'eastern', 'easy', 'ebullience', 'eccentric', 'echoes', 'economic', 'ed', 'edge', 'edges', 'editor', 'editors', 'education', 'edwards', 'effect', 'effectively', 'effects', 'effort', 'efforts', 'eight', 'eighth', 'either', 'el', 'elaborate', 'elder', 'elderly', 'elected', 'electronic', 'elegant', 'elegantly', 'elemental', 'elementary', 'elements', 'elizabeth', 'else.', 'elsewhere', 'elvis', 'embedded', 'embody', 'emerging', 'emily', 'emmy', 'emotionally', 'emphasis', 'emphasized', 'emphasizes', 'empire', 'empty', 'emulsion', 'enable', 'encore', 'encounter', 'encountered', 'encouraged', 'end', 'ended', 'ending', 'endless', 'ends', 'energy', 'engaged', 'engagement', 'engaging', 'engineering', 'engineers', 'england', 'english', 'engraved', 'enhanced', 'enjoy', 'enjoyed', 'enjoyment', 'enlarged', 'enormous', 'enough', 'ensemble', 'enter', 'enterprise', 'enthusiasm', 'enthusiastic', 'entire', 'entirely', 'entrance', 'entrances', 'entrepreneur', 'entries', 'entry', 'enveloping', 'environment', 'envisioned', 'episodes', 'equally', 'equate', 'equipped', 'era', 'eric', 'error', 'erupted', 'escape', 'especially', 'essence', 'essential', 'essentially', 'establish', 'established', 'establishment', 'estate', 'esthetic', 'esthetically', 'estimate', 'estimated', 'et', 'etchings', 'europe', 'european', 'europeans', 'even', 'evening', 'evenings', 'event', 'events', 'eventually', 'ever', 'every', 'everyday', 'everyone', 'everything', 'everywhere', 'evidence', 'evidently', 'evoke', 'evoked', 'evokes', 'evoking', 'evolution', 'ex', 'exactly', 'examination', 'example', 'except', 'exception', 'exceptional', 'exceptionally', 'exchange', 'excitement', 'exciting', 'executive', 'exhibit', 'exhibited', 'exhibiting', 'exhibition', 'exhibitions', 'exist', 'existence', 'existing', 'exits', 'exotic', 'expand', 'expansion', 'expect', 'expected', 'experience', 'experienced', 'experiences', 'experimental', 'experimenting', 'expert', 'experts', 'explain', 'explained', 'explaining', 'explains', 'expletive', 'exploits', 'explore', 'exploring', 'explosive', 'exposure', 'express', 'expressed', 'expressing', 'expression', 'expressionism', 'expressionist', 'expressionistic', 'exquisite', 'extended', 'extends', 'extensive', 'extent', 'exterior', 'extra', 'extraordinary', 'exultation', 'eye', 'eyed', 'eyes', 'f', 'fabric', 'fabulous', 'facade', 'face', 'faces', 'fact', 'fade', 'fail', 'failed', 'failure', 'fair', 'faith', 'fall', 'falling', 'falls', 'false', 'fame', 'familiar', 'families', 'family', 'familys', 'famous', 'fan', 'fanciful', 'fantasy', 'far', 'fare', 'fascinating', 'fascination', 'fashion', 'fashionable', 'fashioned', 'faster', 'fate', 'father', 'fathers', 'favored', 'favorite', 'fear', 'feature', 'features', 'featuring', 'feb', 'february', 'feel', 'feeling', 'feelings', 'feels', 'feet', 'feldman', 'feldmans', 'fell', 'fellow', 'fellowship', 'felt', 'female', 'feminist', 'festival', 'festivals', 'few', 'fewer', 'fields', 'fifth', 'fight', 'fighting', 'figurative', 'figure', 'figures', 'filed', 'fill', 'filled', 'film', 'films', 'filter', 'final', 'finally', 'financed', 'finances', 'financial', 'financing', 'find', 'finding', 'finds', 'fine', 'finger', 'fingers', 'finish', 'finished', 'fire', 'fires', 'firm', 'first', 'fish', 'fishing', 'fit', 'fits', 'five', 'flag', 'flair', 'flames', 'flashes', 'flat', 'flavored', 'fled', 'flemish', 'flesh', 'flew', 'flight', 'flipped', 'float', 'floating', 'floor', 'floors', 'florence', 'flow', 'flower', 'flowers', 'foam', 'focus', 'focused', 'folds', 'folk', 'follow', 'followed', 'followers', 'following', 'follows', 'food', 'foot', 'football', 'footlights', 'for.', 'forbidding', 'force', 'forced', 'forces', 'ford', 'foreground', 'foreign', 'forest', 'forever', 'forget', 'forgotten', 'form', 'formal', 'format', 'formed', 'former', 'forms', 'forward', 'found', 'foundation', 'foundations', 'founded', 'four', 'fourth', 'fragmentation', 'fragments', 'frame', 'france', 'francesco', 'francis', 'francisco', 'frank', 'fred', 'frederic', 'frederick', 'free', 'freedom', 'french', 'frescoes', 'fresh', 'friday', 'friend', 'friends', 'friendship', 'fringes', 'from', 'front', 'frozen', 'frustration', 'fueled', 'full', 'fully', 'fulton', 'fun', 'function.', 'functional', 'functions', 'fund', 'fundamentally', 'funny', 'furniture', 'further', 'fusion', 'fuss', 'future', 'futuristic', 'g', 'gabriel', 'gag', 'gagosian', 'gain', 'gained', 'gaining', 'galleries', 'gallery', 'gallerys', 'game', 'games', 'gap', 'garage', 'garbage', 'garde', 'garden', 'gardens', 'gary', 'gate', 'gather', 'gathering', 'gave', 'gay', 'gelder', 'general', 'generally', 'generated', 'generation', 'generations', 'genre', 'genres', 'gentle', 'gently', 'geometric', 'george', 'gerald', 'german', 'germany', 'gertrude', 'gesture', 'gestures', 'get', 'gets', 'getting', 'giant', 'giants', 'gift', 'gilded', 'gilman', 'girl', 'girls', 'giulio', 'giuseppe', 'give', 'given', 'gives', 'giving', 'glamorous', 'glass', 'glenn', 'glimpse', 'global', 'globe', 'glory', 'glue', 'glueckart', 'go', 'goal', 'god', 'gods', 'goes', 'gogh', 'going', 'gold', 'golden', 'gone', 'good', 'goodman', 'goods', 'gospel', 'got', 'gothic', 'government', 'governments', 'gown', 'grace', 'gradually', 'graffiti', 'graham', 'grammy', 'grand', 'grandiose', 'granite', 'grants', 'grasp', 'grass', 'gray', 'grays', 'great', 'greater', 'greatest', 'greek', 'green', 'greenwich', 'grew', 'grid', 'grids', 'groom', 'ground', 'grounds', 'group', 'groups', 'grow', 'growing', 'grows', 'growth', 'guarded', 'guards', 'guest', 'guggenheim', 'guide', 'guidelines', 'guilty', 'guitar', 'guitarist', 'gun', 'guy', 'guys', 'h', 'had', 'hair', 'half', 'hall', 'halls', 'hallucinatory', 'hallway', 'hand', 'handed', 'handle', 'handled', 'handling', 'hands', 'handsome', 'hang', 'hanging', 'hans', 'happen', 'happened', 'happening', 'happens', 'happy', 'harbor', 'hard', 'harder', 'harlem', 'harmonic', 'harmonies', 'harold', 'harrisons', 'harsh', 'hartford', 'harvard', 'harvested', 'harvey', 'has', 'hasnt', 'hat', 'haunting', 'have', 'haven', 'having', 'haydn', 'he', 'head', 'headache', 'headed', 'heading', 'heads', 'healthy', 'hear', 'heard', 'hearing', 'hearings', 'heart', 'heaven', 'heavily', 'heavy', 'heeled', 'held', 'helen', 'help', 'helped', 'helping', 'hence', 'henry', 'her', 'here', 'heritage', 'hero', 'heroes', 'heroic', 'herself', 'hes', 'hicksville', 'hidden', 'hide', 'high', 'higher', 'highest', 'highly', 'hill', 'hills', 'him', 'himself', 'hinted', 'hints', 'hip', 'hips', 'hired', 'his', 'historians', 'historic', 'historical', 'history', 'hit', 'hits', 'hockey', 'hoffman', 'hold', 'holding', 'holdings', 'holds', 'hole', 'holland', 'hollywood', 'homage', 'home', 'homeless', 'homer', 'homes', 'hong', 'honor', 'honoring', 'hop', 'hope', 'hopes', 'hoping', 'horse', 'hospital', 'host', 'hot', 'hotel', 'hour', 'hours', 'house', 'household', 'houses', 'houston', 'how', 'howard', 'however', 'hows', 'huge', 'hugo', 'human', 'humans', 'humidity', 'humor', 'hundreds', 'hungry', 'hunt', 'hunter', 'hurt', 'husband', 'hustle', 'hybrid', 'i', 'icons', 'id', 'idea', 'idealistic', 'idealize', 'ideals', 'ideas', 'identical', 'identified', 'identify', 'identity', 'ideological', 'if.', 'ignatius', 'ignore', 'ignores', 'ii', 'ill', 'illegal', 'illuminated', 'illusions', 'illustrate', 'illustrational', 'im', 'image', 'images', 'imagination', 'imagine', 'imitation', 'immediate', 'immediately', 'impending', 'implications', 'implied', 'implies', 'importance', 'important', 'impossible', 'impresario', 'impress', 'impression', 'impressionism', 'impressionist', 'impressive', 'improved', 'improvement', 'improvisation', 'improvisations', 'in.', 'inch', 'include', 'included', 'includes', 'including', 'income', 'incorporated', 'incorrectly', 'increase', 'increasing', 'increasingly', 'indeed', 'independent', 'indian', 'indicated', 'individual', 'indoors', 'industrial', 'industry', 'infamous', 'infatuation', 'inflate', 'inflated', 'influence', 'influenced', 'influential', 'informal', 'information', 'informed', 'infrared', 'inhabited', 'inherent', 'inherited', 'initially', 'injuries', 'inner', 'innocence', 'inside', 'insisted', 'insists', 'inspiration', 'inspired', 'install', 'installation', 'installations', 'installed', 'instance', 'instant', 'instead', 'institute', 'institutional', 'institutions', 'instrumental', 'instruments', 'insurance', 'intact', 'intellectual', 'intellectually', 'intended', 'intense', 'intent', 'intentional', 'intentionally', 'interact', 'interest', 'interested', 'interesting', 'interests', 'interior', 'interiors', 'international', 'internet', 'interpretation', 'interview', 'interviews', 'intimacy', 'intimate', 'into', 'introduced', 'introducing', 'introduction', 'invasion', 'invention', 'inventions', 'investment', 'invisible', 'invitation', 'invited', 'invoke', 'involve', 'involved', 'involvement', 'involves', 'involving', 'iris', 'iron', 'irony', 'irving', 'is', 'island', 'islip', 'isnt', 'israeli', 'issue', 'issued', 'issues', 'it', 'italian', 'italians', 'italy', 'italys', 'items', 'its', 'itself', 'ive', 'j', 'jack', 'jacket', 'jackson', 'jail', 'james', 'jan', 'jane', 'janis', 'january', 'japan', 'japanese', 'jasper', 'jaunty', 'jazz', 'jeff', 'jennifer', 'jeremy', 'jerry', 'jersey', 'jetsons', 'jewelry', 'jimmy', 'job', 'joe', 'john', 'johnny', 'johns', 'johnson', 'johnsonart', 'johnss', 'joined', 'joint', 'joke', 'jokes', 'jon', 'jonathan', 'jones', 'joseph', 'joy', 'jr', 'juan', 'julie', 'july', 'june', 'jungle', 'junior', 'just', 'justice', 'juxtaposition', 'k', 'kane', 'keen', 'keep', 'keeping', 'ken', 'kennedy', 'kenneth', 'kept', 'kevin', 'key', 'kids', 'kiley', 'killed', 'killing', 'kind', 'kinds', 'king', 'kings', 'kiosk', 'kiss', 'knee', 'knew', 'knocked', 'know', 'knowing', 'knowledge', 'known', 'knows', 'kong', 'ky', 'l', 'la', 'lab', 'label', 'labeled', 'labels', 'labor', 'lack', 'lacking', 'lacks', 'land', 'landed', 'landscape', 'landscapes', 'lane', 'language', 'large', 'largely', 'larger', 'largest', 'lark', 'larry', 'last', 'lasted', 'lasting', 'late', 'later', 'latest', 'latino', 'latter', 'laugh', 'laughed', 'laughing', 'laura', 'laurence', 'lavish', 'law', 'lawn', 'lawrence', 'lawyers', 'layers', 'le', 'lead', 'leader', 'leading', 'league', 'leagues', 'lean', 'leaps', 'learn', 'learned', 'learning', 'least', 'leave', 'leaves', 'leaving', 'led', 'lee', 'left', 'leftover', 'legal', 'legend', 'legendary', 'legislators', 'legitimate', 'legs', 'leigh', 'lend', 'length', 'lengthy', 'leno', 'lent', 'leon', 'leonard', 'leslie', 'less', 'let', 'lets', 'letter', 'letterman', 'letters', 'letting', 'level', 'levels', 'liam', 'liberty', 'library', 'librettist', 'libretto', 'lichtenstein', 'lies', 'life', 'lifes', 'lifetime', 'light', 'lighter', 'lighting', 'lights', 'like', 'liked', 'likely', 'likes', 'limited', 'limousine', 'lincoln', 'linda', 'line', 'lined', 'lines', 'link', 'links', 'lion', 'liquid', 'lisa', 'list', 'listen', 'listened', 'listening', 'lists', 'literally', 'literary', 'lithographs', 'little', 'live', 'lived', 'lives', 'living', 'lloyd', 'loan', 'loans', 'lobby', 'local', 'location', 'locked', 'loeil', 'loft', 'london', 'lone', 'lonely', 'long', 'longer', 'longtime', 'look', 'looked', 'looking', 'looks', 'loose', 'loosely', 'lord', 'los', 'losing', 'loss', 'lost', 'lot', 'lots', 'loud', 'louis', 'lounge', 'love', 'loved', 'lovely', 'lover', 'lovers', 'loves', 'low', 'lower', 'loyal', 'lucas', 'luck', 'luminous', 'lures', 'lust', 'luxury', 'lying', 'lynn', 'lynne', 'lyric', 'lyricism', 'lyrics', 'm', 'ma', 'mache', 'machine', 'macho', 'macys', 'made', 'madison', 'magazine', 'magazines', 'magic', 'main', 'mainstream', 'majestic', 'major', 'make', 'makes', 'making', 'male', 'mall', 'man', 'managed', 'manages', 'manet', 'manhattan', 'manhole', 'manipulate', 'manipulated', 'manner', 'mans', 'mansion', 'mantegna', 'manuel', 'many', 'map', 'marble', 'marc', 'march', 'marie', 'mark', 'marked', 'market', 'marketing', 'marriage', 'married', 'martha', 'marvelous', 'mary', 'mask', 'masks', 'mason', 'mass', 'masses', 'massive', 'master', 'masterpiece', 'masterpieces', 'masters', 'match', 'matched', 'matching', 'material', 'materials', 'matinee', 'matisse', 'matter', 'matters', 'maurice', 'max', 'may', 'maybe', 'mayor', 'mcdonald', 'me', 'meadows', 'mean', 'meaning', 'means', 'meant', 'meanwhile', 'measure', 'measuring', 'meat', 'media', 'medical', 'meditation', 'medium', 'meet', 'meeting', 'meetings', 'melds', 'melodramatic', 'melody', 'member', 'members', 'memoirs', 'memory', 'men', 'menacing', 'menil', 'mens', 'mention', 'mentioned', 'mentions', 'merce', 'merely', 'merge', 'mermaid', 'mess', 'message', 'messages', 'met', 'metal', 'method', 'methods', 'metropolis', 'metropolitan', 'mexico', 'mezzanine', 'mezzo', 'michael', 'microscopic', 'mid', 'middle', 'midnight', 'midtown', 'might', 'mike', 'miles', 'military', 'millennium', 'miller', 'million', 'millions', 'mind', 'minded', 'mine', 'mines', 'miniature', 'minimal', 'minimalist', 'minimum', 'minister', 'minneapolis', 'minor', 'minority', 'minute', 'minutes', 'miracle', 'mirror', 'mirrors', 'mismatched', 'miss', 'missed', 'missing', 'mission', 'misspelled', 'misstated', 'mistress', 'mitchell', 'mix', 'mixed', 'mixes', 'mixing', 'mock', 'mode', 'model', 'models', 'modern', 'modernism', 'modernist', 'modest', 'mogul', 'moment', 'momentarily', 'moments', 'momentum', 'monday', 'mondrians', 'monet', 'money', 'monochromes', 'monolithic', 'montages', 'month', 'months', 'montreal', 'monumental', 'mood', 'moon', 'moore', 'more', 'moreover', 'morning', 'morris', 'moscow', 'most', 'mostly', 'mother', 'motif', 'motifs', 'motion', 'mount', 'mountain', 'mountains', 'mounted', 'mouth', 'move', 'moved', 'movement', 'moves', 'movie', 'movies', 'moving', 'mozarts', 'mr', 'mrs', 'ms', 'mtv', 'much', 'mug', 'multimedia', 'multiple', 'mundane', 'mural', 'murals', 'murray', 'museum', 'museums', 'music', 'musical', 'musicals', 'musician', 'musicians', 'musings', 'must', 'muted', 'mutual', 'my', 'myers', 'mysterious', 'mystery', 'mythological', 'n', 'na', 'nails', 'naked', 'name', 'named', 'names', 'nancy', 'narrative', 'narratives', 'narrow', 'nashville', 'nassau', 'national', 'natural', 'naturally', 'nature', 'nbc', 'neal', 'near', 'nearby', 'nearly', 'neatly', 'necessarily', 'necessary', 'necessity', 'neck', 'ned', 'need', 'needed', 'negotiated', 'negotiations', 'neighbor', 'neighborhood', 'neil', 'neither', 'nelson', 'neo', 'nervous', 'network', 'networks', 'never', 'nevertheless', 'new', 'newest', 'newly', 'newman', 'news', 'newspaper', 'next.', 'nice', 'nicely', 'nicholas', 'nick', 'nicole', 'night', 'nightclub', 'nights', 'nine', 'no', 'nobody', 'noise', 'nominated', 'nominations', 'nondescript', 'none', 'nonetheless', 'nonprofit', 'nor', 'norm', 'normally', 'north', 'northern', 'nostalgia', 'nostalgic', 'not', 'notable', 'notably', 'note', 'noted', 'notes', 'nothing', 'notice', 'noticed', 'noting', 'notion', 'nov', 'novel', 'november', 'now', 'nowhere', 'nude', 'number', 'numbers', 'numerous', 'nurtures', 'o', 'object', 'objects', 'obliterate', 'obsessed', 'obstacles', 'obtained', 'obvious', 'obviously', 'occasion', 'occasional', 'occasionally', 'occur', 'oclock', 'oct', 'october', 'odds', 'of', 'off', 'offensive', 'offer', 'offered', 'offering', 'offers', 'office', 'offices', 'official', 'officials', 'often', 'oh', 'oil', 'oils', 'old', 'older', 'oldest', 'ole', 'olson', 'ominous', 'on', 'once', 'one', 'ones', 'ongoing', 'online', 'only', 'onstage', 'onto', 'op', 'open', 'opened', 'opening', 'opens', 'opera', 'operas', 'operatic', 'operating', 'operation', 'opportunities', 'opportunity', 'opposed', 'opposite', 'optimism', 'optimistic', 'options', 'opulent', 'or', 'orange', 'orchard', 'orchestra', 'orchestral', 'orchestras', 'order', 'organ', 'organization', 'organizations', 'organized', 'original', 'originality', 'originally', 'os', 'oscar', 'other', 'others', 'otherwise', 'our', 'ourselves', 'out', 'outdoor', 'output', 'outright', 'outside', 'outsider', 'outstanding', 'oval', 'over', 'overall', 'overcrowded', 'overlapping', 'overlooking', 'oversight', 'owed', 'own', 'owned', 'owner', 'owners', 'owns', 'p', 'pa', 'pablo', 'paces', 'pacific', 'pack', 'packed', 'page', 'pages', 'paid', 'pain', 'paint', 'painted', 'painter', 'painterly', 'painters', 'painting', 'paintings', 'paints', 'pair', 'pairing', 'palace', 'palette', 'pam', 'pan', 'pandemonium', 'panel', 'panels', 'panic', 'pants', 'paolo', 'paper', 'papier', 'papp', 'parents', 'paris', 'parisian', 'park', 'parks', 'parsons', 'part', 'particular', 'particularly', 'parties', 'partly', 'partner', 'partners', 'partnership', 'partnerships', 'parts', 'party', 'pass', 'passed', 'passing', 'passion', 'passionate', 'past', 'pastiche', 'pat', 'patch', 'patently', 'path', 'paths', 'patrick', 'patron', 'patrons', 'pattern', 'patterns', 'patti', 'paul', 'pavilion', 'pay', 'paying', 'peace', 'penchant', 'pentagon', 'people', 'per', 'percent', 'percentage', 'perception', 'perched', 'percussion', 'percussionists', 'perfect', 'perfectly', 'perform', 'performance', 'performances', 'performed', 'performers', 'performing', 'perhaps', 'period', 'periods', 'permanent', 'permission', 'person', 'personal', 'personalities', 'personality', 'perspective', 'peter', 'phallus', 'phase', 'phenomenon', 'philadelphia', 'philharmonic', 'philip', 'philippines', 'phillips', 'philosophical', 'phone', 'photo', 'photograph', 'photographed', 'photographer', 'photographers', 'photographic', 'photographs', 'photography', 'photos', 'physical', 'pianissimo', 'pianist', 'piano', 'picasso', 'pick', 'picked', 'picking', 'pictorial', 'picture', 'pictures', 'piece', 'pieces', 'pierre', 'pile', 'piles', 'pills', 'pink', 'pioneer', 'pirated', 'pit', 'place', 'placed', 'places', 'plagued', 'plain', 'plan', 'planet', 'planned', 'planning', 'plans', 'planted', 'plants', 'plaster', 'plastic', 'play', 'played', 'player', 'players', 'playful', 'playing', 'plays', 'playwright', 'playwrights', 'playwriting', 'please', 'pleasure', 'pleasures', 'plenty', 'plucky', 'plum', 'plus', 'plush', 'plywood', 'poet', 'poetry', 'point', 'pointed', 'points', 'polaroid', 'pole', 'police', 'polished', 'political', 'politics', 'polke', 'pool', 'poor', 'pop', 'pope', 'popular', 'popularity', 'port', 'porter', 'portion', 'portrait', 'portraits', 'portrays', 'position', 'positioned', 'positions', 'possess', 'possession', 'possibilities', 'possibility', 'possible', 'possibly', 'post', 'poster', 'posters', 'posturing', 'potential', 'power', 'powerful', 'practical', 'practice', 'praised', 'pre', 'preacher', 'precisely', 'precision', 'precocious', 'prejudice', 'premiere', 'premieres', 'premise', 'preparation', 'preparatory', 'prepared', 'preparing', 'presence', 'present', 'presented', 'presenters', 'presenting', 'presents', 'preservation', 'preserve', 'president', 'press', 'pressing', 'pretty', 'preview', 'previews', 'previous', 'previously', 'price', 'prices', 'primal', 'primarily', 'primary', 'prime', 'prince', 'principal', 'print', 'printed', 'printing', 'printmaking', 'prints', 'pristine', 'private', 'privately', 'prize', 'probably', 'problem', 'problems', 'process', 'processes', 'produce', 'produced', 'producer', 'producers', 'produces', 'producing', 'product', 'production', 'productions', 'products', 'profession', 'professional', 'professionals', 'professor', 'profile', 'profits', 'profoundly', 'program', 'programming', 'programs', 'progress', 'project', 'projection', 'projections', 'projects', 'promise', 'promised', 'promising', 'promote', 'promoting', 'prompted', 'proof', 'propaganda', 'propelled', 'property', 'proportion', 'proportions', 'proposals', 'proposed', 'props', 'proscenium', 'prospect', 'prot', 'protect', 'protected', 'protection', 'proud', 'proved', 'proves', 'provide', 'provided', 'provider', 'provides', 'providing', 'provocative', 'pruning', 'psychedelic', 'psychological', 'pub', 'public', 'publications', 'published', 'puccini', 'pulled', 'pulls', 'pulse', 'punishment', 'puns', 'purchase', 'purchases', 'pure', 'purely', 'purity', 'purple', 'purpose', 'purposes', 'pursued', 'pursuing', 'push', 'put', 'puts', 'putting', 'puzzling', 'qualities', 'quality', 'quantities', 'quarter', 'quartet', 'queen', 'queens', 'quest', 'question', 'questioned', 'questioning', 'questions', 'quick', 'quiet', 'quietly', 'quilts', 'quintet', 'quite', 'r', 'rabbit', 'radical', 'radically', 'radio', 'rage', 'railings', 'rain', 'raise', 'raised', 'raising', 'ralph', 'ran', 'randall', 'range', 'ranging', 'raphael', 'rapid', 'rapper', 'rare', 'rarely', 'rarity', 'rat', 'rate', 'rather', 'rating', 'rauschenberg', 'raw', 'ray', 'razed', 'rca', 're', 'reach', 'reached', 'read', 'reading', 'ready', 'real', 'realism', 'realistic', 'reality', 'realize', 'realized', 'really', 'realm', 'reason', 'reasons', 'rebecca', 'recall', 'recalled', 'recalling', 'recapture', 'receive', 'received', 'receives', 'recent', 'recently', 'recital', 'recitals', 'recognition', 'reconstructs', 'record', 'recorded', 'recording', 'recordings', 'records', 'recover', 'recovered', 'recreate', 'rectangle', 'rectangular', 'recurring', 'red', 'reduced', 'reduction', 'reference', 'references', 'referred', 'referring', 'reflect', 'reflected', 'reflecting', 'reflects', 'refuse', 'refused', 'regional', 'register', 'registry', 'regular', 'regulations', 'rehearsal', 'reinforce', 'rejected', 'rejection', 'relate', 'related', 'relations', 'relationship', 'relative', 'relatively', 'release', 'released', 'relevant', 'reliefs', 'religion', 'religious', 'rely', 'remain', 'remained', 'remaining', 'remains', 'remarkable', 'remarks', 'rembrandt', 'remember', 'remembers', 'remind', 'reminder', 'removed', 'removing', 'renaissance', 'rendered', 'rendering', 'renderings', 'renee', 'renovated', 'renovating', 'renovation', 'rent', 'rented', 'reopen', 'reopened', 'reopening', 'repeated', 'repeatedly', 'repertory', 'repetition', 'replace', 'replaced', 'replied', 'report', 'reported', 'reporters', 'reports', 'represent', 'representation', 'representative', 'representatives', 'represented', 'represents', 'reprise', 'republican', 'reputation', 'reputations', 'require', 'required', 'requires', 'research', 'resemble', 'resembles', 'reservations', 'residence', 'resident', 'resin', 'resistance', 'resolved', 'resources', 'respectable', 'respectively', 'response', 'responsible', 'rest', 'restaurant', 'restaurants', 'resting', 'restless', 'restoration', 'restored', 'result', 'resulted', 'results', 'retained', 'retired', 'retitled', 'retreat', 'retrospective', 'return', 'returned', 'returning', 'returns', 'revealed', 'revealing', 'reveals', 'revenue', 'reverence', 'reverse', 'review', 'revisions', 'revisit', 'revival', 'revivals', 'revolution', 'revolutionary', 'reward', 'rhythm', 'rice', 'rich', 'richard', 'richardson', 'richness', 'rid', 'ride', 'rifle', 'right', 'ringing', 'ripple', 'rise', 'rises', 'rising', 'risk', 'rita', 'ritual', 'river', 'rivers', 'road', 'roads', 'rob', 'robert', 'roberta', 'robes', 'robinson', 'robust', 'robustly', 'rochelle', 'rock', 'rocket', 'rocks', 'rocky', 'role', 'roles', 'roll', 'rolling', 'roman', 'romance', 'romantic', 'rome', 'ronald', 'room', 'rooms', 'root', 'roots', 'rose', 'ross', 'rothenberg', 'rothko', 'rough', 'roughly', 'round', 'routine', 'routinely', 'row', 'roy', 'royal', 'ruckus', 'rude', 'ruins', 'rules', 'run', 'running', 'runs', 'ruscha', 'rush', 'rushing', 'russia', 'russian', 'ryder', 's', 'saga', 'said', 'saint', 'saints', 'salary', 'sale', 'sales', 'salle', 'salute', 'sam', 'samaras', 'same', 'sampling', 'samuel', 'san', 'sang', 'sarah', 'sardonic', 'sargent', 'sat', 'satisfaction', 'saturday', 'saul', 'saved', 'saw', 'saws', 'saxophone', 'say', 'saying', 'says', 'scale', 'scandal', 'scary', 'scattered', 'scenario', 'scene', 'scenery', 'scenes', 'schedule', 'scheduled', 'scholar', 'scholars', 'scholarship', 'school', 'schools', 'schwartz', 'science', 'score', 'scores', 'scott', 'scramble', 'screaming', 'screen', 'screenings', 'screens', 'sculptor', 'sculptural', 'sculpture', 'sculptures', 'sea', 'search', 'searching', 'season', 'seasons', 'seat', 'seating', 'seats', 'seattle', 'second', 'secret', 'section', 'sections', 'security', 'seductive', 'see', 'seeing', 'seeking', 'seem', 'seemed', 'seemingly', 'seems', 'seen', 'sees', 'selected', 'selection', 'self', 'sell', 'selling', 'semi', 'senate', 'senator', 'send', 'sending', 'senior', 'sense', 'sensual', 'sent', 'sentiment', 'sentimental', 'separate', 'sept', 'september', 'sequence', 'serene', 'series', 'serious', 'seriousness', 'serve', 'served', 'service', 'services', 'set', 'sets', 'setting', 'settings', 'settle', 'settled', 'seven', 'several', 'severe', 'severely', 'sex', 'sexual', 'shades', 'shadow', 'shakespeare', 'shakespeares', 'shape', 'shaped', 'shapes', 'shaping', 'share', 'shared', 'shares', 'sharon', 'sharp', 'sharply', 'she', 'sheer', 'shell', 'shes', 'shimmering', 'shine', 'shiny', 'ships', 'shirt', 'shirts', 'shocked', 'shoes', 'shooting', 'shop', 'shopping', 'shops', 'short', 'shortly', 'shot', 'shots', 'should', 'shoulders', 'shout', 'shouting', 'show', 'showed', 'showing', 'shown', 'shows', 'shrill', 'shut', 'side', 'sides', 'sight', 'sightings', 'sigmar', 'sign', 'signaled', 'signature', 'signed', 'significant', 'signing', 'signs', 'silhouetted', 'silhouettes', 'silk', 'silver', 'silvery', 'similar', 'similarly', 'simple', 'simpler', 'simplicity', 'simply', 'simpsons', 'simultaneously', 'since', 'sing', 'singer', 'singers', 'singing', 'single', 'sings', 'sink', 'sinking', 'sir', 'sister', 'sitcom', 'sitcoms', 'site', 'sites', 'sits', 'sitting', 'six', 'sixth', 'size', 'sized', 'sizes', 'skeptical', 'sketch', 'sketches', 'skin', 'skirt', 'sky', 'skylight', 'skyline', 'skyscrapers', 'slash', 'sleek', 'sleep', 'slide', 'slightly', 'slow', 'slowly', 'small', 'smaller', 'smart', 'smearing', 'smell', 'smith', 'smithtown', 'smoke', 'smooth', 'snake', 'snakes', 'snappy', 'snout', 'snow', 'so', 'soap', 'social', 'societies', 'society', 'soft', 'softer', 'software', 'soho', 'sold', 'soldier', 'solid', 'solo', 'soloists', 'solomon', 'somber', 'some', 'somebody', 'somehow', 'someone', 'something', 'sometimes', 'somewhat', 'son', 'sonata', 'sondheim', 'song', 'songs', 'songwriters', 'sonic', 'sons', 'soon', 'sophisticated', 'soprano', 'sort', 'sought', 'soul', 'sound', 'sounded', 'sounds', 'source', 'south', 'southern', 'soviet', 'space', 'spaces', 'spacey', 'spain', 'spanish', 'spare', 'spatial', 'speak', 'speaking', 'special', 'specializes', 'specialty', 'specific', 'specifically', 'spectacular', 'speculation', 'spend', 'spending', 'spent', 'sphere', 'spinal', 'spirit', 'splash', 'spoke', 'spokesman', 'sponsored', 'sponsors', 'sports', 'spotlight', 'spread', 'spring', 'spur', 'square', 'squeezed', 'squid', 'st', 'stable', 'staff', 'stage', 'staged', 'stages', 'staging', 'stained', 'staircase', 'stand', 'standard', 'standards', 'standing', 'stands', 'stanley', 'star', 'stare', 'stark', 'starred', 'starring', 'stars', 'start', 'started', 'starting', 'startling', 'starts', 'state', 'statement', 'statements', 'states', 'static', 'station', 'statuary', 'statue', 'statuettes', 'status', 'stay', 'steady', 'steel', 'steeped', 'stefano', 'stein', 'steinberg', 'steinway', 'stentorian', 'step', 'stephen', 'stepped', 'stepping', 'steps', 'steve', 'steven', 'stick', 'still', 'stills', 'stimulating', 'stint', 'stitched', 'stone', 'stones', 'stood', 'stop', 'stopped', 'store', 'stores', 'stories', 'story', 'straight', 'strange', 'stream', 'street', 'streets', 'strength', 'strengths', 'stresses', 'stretch', 'stretched', 'strictly', 'strike', 'striking', 'string', 'strings', 'strip', 'stripped', 'strips', 'strokes', 'stroll', 'strong', 'strongest', 'strongly', 'structure', 'structures', 'struggle', 'stuck', 'studded', 'student', 'students', 'studied', 'studies', 'studio', 'studios', 'study', 'stuff', 'sturdy', 'style', 'styles', 'stylish', 'stylistically', 'subject', 'subjects', 'subsequent', 'substance', 'substantial', 'subtle', 'subtlety', 'suburb', 'suburban', 'subversive', 'succeed', 'succeeded', 'success', 'successful', 'successor', 'such', 'sudden', 'suddenly', 'sue', 'suffered', 'sufficient', 'suffolk', 'suggest', 'suggested', 'suggesting', 'suggestive', 'suggests', 'suit', 'suits', 'summer', 'summers', 'sun', 'sunday', 'sung', 'sunlight', 'sunny', 'sunset', 'super', 'superimposed', 'superintendent', 'support', 'supported', 'supporting', 'supposed', 'sure', 'surely', 'surface', 'surfaces', 'surge', 'surgeons', 'surprise', 'surprises', 'surprising', 'surprisingly', 'surreal', 'surrealist', 'surrounded', 'surrounding', 'surroundings', 'surrounds', 'survey', 'survive', 'susan', 'suspect', 'suspended', 'sweet', 'sweetly', 'swing', 'swinging', 'swirling', 'swiss', 'symbol', 'symmetry', 'symphony', 'synonymous', 'system', 't', 'taaffe', 'table', 'tactics', 'tail', 'taiwan', 'take', 'taken', 'takes', 'taking', 'tale', 'talent', 'tales', 'talk', 'talking', 'talks', 'tall', 'tap', 'tapes', 'task', 'taught', 'tax', 'taylor', 'tchaikovsky', 'team', 'teams', 'tear', 'tears', 'tech', 'technically', 'techniques', 'technology', 'teens', 'telephone', 'television', 'televisions', 'tell', 'telling', 'tells', 'temporary', 'tend', 'tended', 'tendency', 'tender', 'tends', 'tennessee', 'tenor', 'tentatively', 'tenure', 'term', 'terms', 'territory', 'tex', 'texas', 'text', 'texts', 'texture', 'than', 'thank', 'that', 'thats', 'the', 'theater', 'theaters', 'theatrical', 'their', 'them', 'thematic', 'theme', 'themes', 'themselves', 'then', 'there', 'theres', 'these', 'they', 'theyre', 'thick', 'thieves', 'thin', 'thing', 'things', 'think', 'thinking', 'thinks', 'third', 'this', 'thomas', 'those', 'though', 'thought', 'thoughtful', 'thoughts', 'thousands', 'threat', 'threatening', 'three', 'threw', 'thrift', 'through', 'throughout', 'throw', 'thrown', 'thursday', 'thus', 'ticket', 'ticketmaster', 'tickets', 'tie', 'ties', 'timbre', 'time', 'timed', 'timeless', 'times', 'timing', 'timpani', 'tin', 'tiny', 'title', 'titled', 'titles', 'to', 'toccata', 'today', 'todays', 'together', 'told', 'tom', 'tomkinss', 'tomorrow', 'tonality', 'tone', 'toned', 'tonight', 'tonights', 'tony', 'too', 'took', 'tools', 'top', 'topped', 'tops', 'torso', 'total', 'totem', 'touch', 'touches', 'touching', 'tough', 'tour', 'toured', 'touring', 'tourists', 'tours', 'toward', 'towards', 'tower', 'towers', 'town', 'towns', 'toy', 'trace', 'traces', 'track', 'tractor', 'trade', 'traded', 'tradition', 'traditional', 'traditionally', 'traffic', 'tragedy', 'training', 'transform', 'transformations', 'transformed', 'transforming', 'transgressions', 'transparent', 'trash', 'travel', 'traveled', 'travelers', 'traveling', 'treasures', 'treasury', 'treat', 'treated', 'treatment', 'tree', 'trees', 'triangle', 'tribute', 'trick', 'tricky', 'tried', 'tries', 'trio', 'trip', 'trompe', 'trouble', 'truck', 'true', 'truly', 'trust', 'try', 'trying', 'tucked', 'tuesday', 'tuesdays', 'tully', 'tune', 'tunes', 'turn', 'turned', 'turner', 'turning', 'turns', 'tv', 'twice', 'twist', 'two', 'twombly', 'type', 'u', 'ultimate', 'ultimately', 'unable', 'uncanny', 'uncertainty', 'unclear', 'under', 'understanding', 'undoubtedly', 'undulating', 'unfinished', 'unfortunate', 'uniform', 'union', 'unique', 'united', 'universal', 'university', 'unknown', 'unlike', 'unlikely', 'unnoticed', 'unrelated', 'until', 'untitled', 'unusual', 'unwelcome', 'up', 'upon', 'upper', 'upside', 'urban', 'urge', 'us', 'use', 'used', 'useful', 'uses', 'using', 'usual', 'usually', 'utter', 'v', 'va', 'vaguely', 'vain', 'valley', 'valuable', 'value', 'values', 'van', 'varied', 'variety', 'various', 'varying', 'vast', 'vaudeville', 've', 'vegas', 'venice', 'venue', 'venus', 'verdis', 'vernon', 'verses', 'version', 'versions', 'very', 'veterans', 'vi', 'vibrant', 'vice', 'victims', 'victor', 'victoria', 'victory', 'video', 'vienna', 'viennese', 'view', 'viewed', 'viewer', 'viewers', 'viewing', 'views', 'village', 'vincent', 'vintage', 'violence', 'violin', 'violinist', 'violins', 'violist', 'virtually', 'virtuosity', 'visible', 'visibly', 'vision', 'visit', 'visited', 'visiting', 'visitor', 'visitors', 'vista', 'visual', 'vivid', 'vocal', 'vogue', 'voice', 'voices', 'volcanic', 'volume', 'von', 'vulnerable', 'w', 'wading', 'wadsworth', 'wagners', 'waiting', 'waived', 'walk', 'walked', 'walker', 'walking', 'walks', 'wall', 'walls', 'walter', 'waltz', 'want', 'wanted', 'wants', 'war', 'warhol', 'warhols', 'warm', 'warmth', 'warner', 'warren', 'wars', 'was', 'wash', 'washington', 'wasnt', 'watch', 'watches', 'watching', 'water', 'watercolor', 'watercolors', 'watson', 'wave', 'wax', 'way', 'ways', 'we', 'wealth', 'weapon', 'wear', 'wearing', 'wears', 'weather', 'web', 'webb', 'wednesday', 'week', 'weekend', 'weekly', 'weeks', 'wei', 'weight', 'weill', 'welcome', 'well', 'went', 'were', 'west', 'western', 'wet', 'what', 'whats', 'wheels', 'when', 'whenever', 'where', 'whether', 'which', 'while.', 'white', 'whitney', 'who', 'whole', 'whom', 'whose', 'why', 'wichita', 'wide', 'widely', 'wife', 'wild', 'wildly', 'will', 'william', 'williams', 'williamsburg', 'willing', 'wilson', 'wind', 'window', 'windows', 'wing', 'wings', 'winning', 'winslow', 'winter', 'wiped', 'wire', 'wisely', 'wish', 'wit', 'witch', 'with', 'within', 'without', 'witness', 'witnesses', 'witty', 'wolf', 'wolfgang', 'woman', 'womans', 'women', 'womens', 'won', 'wonder', 'wonderful', 'wondering', 'wont', 'wood', 'woodcuts', 'wooden', 'woogie', 'wooster', 'word', 'words', 'wore', 'work', 'worked', 'workers', 'working', 'works', 'workshop', 'workshops', 'world', 'worlds', 'worldwide', 'worried', 'worry', 'worse', 'worst', 'worth', 'would', 'wouldnt', 'wound', 'writer', 'writers', 'writes', 'writing', 'written', 'wrong', 'wrote', 'wry', 'www', 'xavier', 'y', 'yale', 'yang', 'yard', 'year', 'years', 'yellow', 'yes', 'yesterday', 'yet', 'yielding', 'yogi', 'york', 'yorkers', 'yorks', 'you', 'young', 'younger', 'your', 'youre', 'youth', 'youthful', 'yu']\n"
     ]
    }
   ],
   "source": [
    "print(original_headers)"
   ]
  },
  {
   "cell_type": "raw",
   "metadata": {},
   "source": [
    "print(size(df))"
   ]
  },
  {
   "cell_type": "code",
   "execution_count": 9,
   "metadata": {},
   "outputs": [
    {
     "data": {
      "text/html": [
       "<div>\n",
       "<style scoped>\n",
       "    .dataframe tbody tr th:only-of-type {\n",
       "        vertical-align: middle;\n",
       "    }\n",
       "\n",
       "    .dataframe tbody tr th {\n",
       "        vertical-align: top;\n",
       "    }\n",
       "\n",
       "    .dataframe thead th {\n",
       "        text-align: right;\n",
       "    }\n",
       "</style>\n",
       "<table border=\"1\" class=\"dataframe\">\n",
       "  <thead>\n",
       "    <tr style=\"text-align: right;\">\n",
       "      <th></th>\n",
       "      <th>Unnamed: 0</th>\n",
       "      <th>class.labels</th>\n",
       "      <th>X.</th>\n",
       "      <th>X.d</th>\n",
       "      <th>X.nd</th>\n",
       "      <th>X.s</th>\n",
       "      <th>X.th</th>\n",
       "      <th>X.this</th>\n",
       "      <th>a</th>\n",
       "      <th>abandoned</th>\n",
       "      <th>...</th>\n",
       "      <th>yorkers</th>\n",
       "      <th>yorks</th>\n",
       "      <th>you</th>\n",
       "      <th>young</th>\n",
       "      <th>younger</th>\n",
       "      <th>your</th>\n",
       "      <th>youre</th>\n",
       "      <th>youth</th>\n",
       "      <th>youthful</th>\n",
       "      <th>yu</th>\n",
       "    </tr>\n",
       "  </thead>\n",
       "  <tbody>\n",
       "    <tr>\n",
       "      <th>0</th>\n",
       "      <td>1</td>\n",
       "      <td>art</td>\n",
       "      <td>0.008707</td>\n",
       "      <td>0.0</td>\n",
       "      <td>0.0</td>\n",
       "      <td>0.000000</td>\n",
       "      <td>0.009251</td>\n",
       "      <td>0.0</td>\n",
       "      <td>0.007564</td>\n",
       "      <td>0.0</td>\n",
       "      <td>...</td>\n",
       "      <td>0.0</td>\n",
       "      <td>0.0</td>\n",
       "      <td>0.000000</td>\n",
       "      <td>0.0</td>\n",
       "      <td>0.0</td>\n",
       "      <td>0.0</td>\n",
       "      <td>0.0</td>\n",
       "      <td>0.0</td>\n",
       "      <td>0.0</td>\n",
       "      <td>0.0</td>\n",
       "    </tr>\n",
       "    <tr>\n",
       "      <th>1</th>\n",
       "      <td>2</td>\n",
       "      <td>art</td>\n",
       "      <td>0.005848</td>\n",
       "      <td>0.0</td>\n",
       "      <td>0.0</td>\n",
       "      <td>0.000000</td>\n",
       "      <td>0.000000</td>\n",
       "      <td>0.0</td>\n",
       "      <td>0.001418</td>\n",
       "      <td>0.0</td>\n",
       "      <td>...</td>\n",
       "      <td>0.0</td>\n",
       "      <td>0.0</td>\n",
       "      <td>0.000000</td>\n",
       "      <td>0.0</td>\n",
       "      <td>0.0</td>\n",
       "      <td>0.0</td>\n",
       "      <td>0.0</td>\n",
       "      <td>0.0</td>\n",
       "      <td>0.0</td>\n",
       "      <td>0.0</td>\n",
       "    </tr>\n",
       "    <tr>\n",
       "      <th>2</th>\n",
       "      <td>3</td>\n",
       "      <td>art</td>\n",
       "      <td>0.016036</td>\n",
       "      <td>0.0</td>\n",
       "      <td>0.0</td>\n",
       "      <td>0.011403</td>\n",
       "      <td>0.000000</td>\n",
       "      <td>0.0</td>\n",
       "      <td>0.010063</td>\n",
       "      <td>0.0</td>\n",
       "      <td>...</td>\n",
       "      <td>0.0</td>\n",
       "      <td>0.0</td>\n",
       "      <td>0.000000</td>\n",
       "      <td>0.0</td>\n",
       "      <td>0.0</td>\n",
       "      <td>0.0</td>\n",
       "      <td>0.0</td>\n",
       "      <td>0.0</td>\n",
       "      <td>0.0</td>\n",
       "      <td>0.0</td>\n",
       "    </tr>\n",
       "    <tr>\n",
       "      <th>3</th>\n",
       "      <td>4</td>\n",
       "      <td>art</td>\n",
       "      <td>0.026415</td>\n",
       "      <td>0.0</td>\n",
       "      <td>0.0</td>\n",
       "      <td>0.000000</td>\n",
       "      <td>0.000000</td>\n",
       "      <td>0.0</td>\n",
       "      <td>0.008677</td>\n",
       "      <td>0.0</td>\n",
       "      <td>...</td>\n",
       "      <td>0.0</td>\n",
       "      <td>0.0</td>\n",
       "      <td>0.000000</td>\n",
       "      <td>0.0</td>\n",
       "      <td>0.0</td>\n",
       "      <td>0.0</td>\n",
       "      <td>0.0</td>\n",
       "      <td>0.0</td>\n",
       "      <td>0.0</td>\n",
       "      <td>0.0</td>\n",
       "    </tr>\n",
       "    <tr>\n",
       "      <th>4</th>\n",
       "      <td>5</td>\n",
       "      <td>art</td>\n",
       "      <td>0.007285</td>\n",
       "      <td>0.0</td>\n",
       "      <td>0.0</td>\n",
       "      <td>0.011008</td>\n",
       "      <td>0.000000</td>\n",
       "      <td>0.0</td>\n",
       "      <td>0.008390</td>\n",
       "      <td>0.0</td>\n",
       "      <td>...</td>\n",
       "      <td>0.0</td>\n",
       "      <td>0.0</td>\n",
       "      <td>0.048151</td>\n",
       "      <td>0.0</td>\n",
       "      <td>0.0</td>\n",
       "      <td>0.0</td>\n",
       "      <td>0.0</td>\n",
       "      <td>0.0</td>\n",
       "      <td>0.0</td>\n",
       "      <td>0.0</td>\n",
       "    </tr>\n",
       "  </tbody>\n",
       "</table>\n",
       "<p>5 rows × 4433 columns</p>\n",
       "</div>"
      ],
      "text/plain": [
       "   Unnamed: 0 class.labels        X.  X.d  X.nd       X.s      X.th  X.this  \\\n",
       "0           1          art  0.008707  0.0   0.0  0.000000  0.009251     0.0   \n",
       "1           2          art  0.005848  0.0   0.0  0.000000  0.000000     0.0   \n",
       "2           3          art  0.016036  0.0   0.0  0.011403  0.000000     0.0   \n",
       "3           4          art  0.026415  0.0   0.0  0.000000  0.000000     0.0   \n",
       "4           5          art  0.007285  0.0   0.0  0.011008  0.000000     0.0   \n",
       "\n",
       "          a  abandoned  ...  yorkers  yorks       you  young  younger  your  \\\n",
       "0  0.007564        0.0  ...      0.0    0.0  0.000000    0.0      0.0   0.0   \n",
       "1  0.001418        0.0  ...      0.0    0.0  0.000000    0.0      0.0   0.0   \n",
       "2  0.010063        0.0  ...      0.0    0.0  0.000000    0.0      0.0   0.0   \n",
       "3  0.008677        0.0  ...      0.0    0.0  0.000000    0.0      0.0   0.0   \n",
       "4  0.008390        0.0  ...      0.0    0.0  0.048151    0.0      0.0   0.0   \n",
       "\n",
       "   youre  youth  youthful   yu  \n",
       "0    0.0    0.0       0.0  0.0  \n",
       "1    0.0    0.0       0.0  0.0  \n",
       "2    0.0    0.0       0.0  0.0  \n",
       "3    0.0    0.0       0.0  0.0  \n",
       "4    0.0    0.0       0.0  0.0  \n",
       "\n",
       "[5 rows x 4433 columns]"
      ]
     },
     "execution_count": 9,
     "metadata": {},
     "output_type": "execute_result"
    }
   ],
   "source": [
    "df.head()"
   ]
  },
  {
   "cell_type": "code",
   "execution_count": 10,
   "metadata": {},
   "outputs": [
    {
     "data": {
      "text/plain": [
       "0        art\n",
       "1        art\n",
       "2        art\n",
       "3        art\n",
       "4        art\n",
       "       ...  \n",
       "97     music\n",
       "98     music\n",
       "99     music\n",
       "100    music\n",
       "101    music\n",
       "Name: class.labels, Length: 102, dtype: object"
      ]
     },
     "execution_count": 10,
     "metadata": {},
     "output_type": "execute_result"
    }
   ],
   "source": [
    "df.loc[:,'class.labels']"
   ]
  },
  {
   "cell_type": "code",
   "execution_count": 11,
   "metadata": {},
   "outputs": [
    {
     "data": {
      "text/plain": [
       "452166"
      ]
     },
     "execution_count": 11,
     "metadata": {},
     "output_type": "execute_result"
    }
   ],
   "source": [
    "df.size"
   ]
  },
  {
   "cell_type": "code",
   "execution_count": 12,
   "metadata": {},
   "outputs": [
    {
     "data": {
      "text/plain": [
       "(102, 4433)"
      ]
     },
     "execution_count": 12,
     "metadata": {},
     "output_type": "execute_result"
    }
   ],
   "source": [
    "df.shape"
   ]
  },
  {
   "cell_type": "code",
   "execution_count": 13,
   "metadata": {},
   "outputs": [],
   "source": [
    "dff = df._get_numeric_data()"
   ]
  },
  {
   "cell_type": "code",
   "execution_count": 14,
   "metadata": {},
   "outputs": [
    {
     "data": {
      "text/plain": [
       "(102, 4433)"
      ]
     },
     "execution_count": 14,
     "metadata": {},
     "output_type": "execute_result"
    }
   ],
   "source": [
    "df.shape"
   ]
  },
  {
   "cell_type": "code",
   "execution_count": 15,
   "metadata": {},
   "outputs": [],
   "source": [
    "data = df.iloc[:,9:]"
   ]
  },
  {
   "cell_type": "code",
   "execution_count": 16,
   "metadata": {},
   "outputs": [
    {
     "name": "stderr",
     "output_type": "stream",
     "text": [
      "/usr/lib/python3.7/site-packages/ipykernel_launcher.py:1: FutureWarning: Method .as_matrix will be removed in a future version. Use .values instead.\n",
      "  \"\"\"Entry point for launching an IPython kernel.\n"
     ]
    }
   ],
   "source": [
    "array = data.as_matrix()"
   ]
  },
  {
   "cell_type": "code",
   "execution_count": 17,
   "metadata": {},
   "outputs": [
    {
     "data": {
      "text/plain": [
       "(102, 4424)"
      ]
     },
     "execution_count": 17,
     "metadata": {},
     "output_type": "execute_result"
    }
   ],
   "source": [
    "array.shape"
   ]
  },
  {
   "cell_type": "code",
   "execution_count": 18,
   "metadata": {},
   "outputs": [],
   "source": [
    "from sklearn.decomposition import PCA"
   ]
  },
  {
   "cell_type": "code",
   "execution_count": 19,
   "metadata": {},
   "outputs": [],
   "source": [
    "pca = PCA()"
   ]
  },
  {
   "cell_type": "code",
   "execution_count": 20,
   "metadata": {},
   "outputs": [
    {
     "data": {
      "text/plain": [
       "(102, 102)"
      ]
     },
     "execution_count": 20,
     "metadata": {},
     "output_type": "execute_result"
    }
   ],
   "source": [
    "X_pca = pca.fit_transform(array)\n",
    "X_pca.shape"
   ]
  },
  {
   "cell_type": "code",
   "execution_count": 21,
   "metadata": {},
   "outputs": [],
   "source": [
    "y = df.loc[:,'class.labels']\n",
    "reds = y == 'art'\n",
    "blues = y == 'music'"
   ]
  },
  {
   "cell_type": "code",
   "execution_count": 24,
   "metadata": {},
   "outputs": [
    {
     "name": "stdout",
     "output_type": "stream",
     "text": [
      "['swiss' 'fled' 'effect' 'task' 'contributes' 'space' 'splash' 'filter'\n",
      " 'knocked' 'budget' 'anthony' 'pope' 'august' 'seven' 'reward' 'evening'\n",
      " 'includes' 'message' 'allowed' 'kings']\n"
     ]
    }
   ],
   "source": [
    "header = list(df.columns.values[9:])\n",
    "sample_word = np.random.choice(header, 20, replace=False)\n",
    "print(sample_word)"
   ]
  },
  {
   "cell_type": "code",
   "execution_count": 25,
   "metadata": {},
   "outputs": [],
   "source": [
    "indices = np.random.choice(array.shape[0], 2, replace=False)\n",
    "sample = array[indices,:]"
   ]
  },
  {
   "cell_type": "code",
   "execution_count": 26,
   "metadata": {},
   "outputs": [
    {
     "data": {
      "image/png": "[encoded data removed]",
      "text/plain": [
       "<Figure size 432x288 with 1 Axes>"
      ]
     },
     "metadata": {
      "needs_background": "light"
     },
     "output_type": "display_data"
    }
   ],
   "source": [
    "plt.figure()\n",
    "plt.scatter(X_pca[np.array(reds), 0], X_pca[np.array(reds), 1], c=\"red\", s=20, edgecolor='k')\n",
    "plt.scatter(X_pca[np.array(blues), 0], X_pca[np.array(blues), 1], c=\"blue\",s=20, edgecolor='k')\n",
    "plt.title(\"Projection by PCA\")\n",
    "plt.xlabel(\"1st component\")\n",
    "plt.ylabel(\"2nd component\")\n",
    "plt.show()"
   ]
  },
  {
   "cell_type": "code",
   "execution_count": 27,
   "metadata": {
    "scrolled": true
   },
   "outputs": [
    {
     "name": "stdout",
     "output_type": "stream",
     "text": [
      "----------PC1-------------\n",
      "music:-0.11211617341838395\n",
      "trio:-0.08780731643381652\n",
      "theater:-0.07404600988801327\n",
      "orchestra:-0.0692689982675331\n",
      "composers:-0.05859060967058615\n",
      "opera:-0.055553640967300456\n",
      "theaters:-0.051177961569890254\n",
      "m:-0.04902545227080574\n",
      "program:-0.04900138329029363\n",
      "players:-0.04881882614499719\n",
      "festival:-0.048123331390177826\n",
      "east:-0.04794086893749091\n",
      "y:-0.047911748359542664\n",
      "jersey:-0.04603235412282278\n",
      "symphony:-0.0449307762546804\n",
      "--------------------------\n",
      "she:0.26127391890531615\n",
      "her:0.24529311441720691\n",
      "ms:0.20211292705699732\n",
      "i:0.15028278883843363\n",
      "said:0.13360556763625306\n",
      "mother:0.10687219119361745\n",
      "cooper:0.1030093920502291\n",
      "my:0.09432521211958254\n",
      "painting:0.08788709841748907\n",
      "process:0.0711963014734391\n",
      "paintings:0.0698848352950017\n",
      "im:0.06857385461154242\n",
      "mrs:0.06562096808145772\n",
      "he:0.06531001248089244\n",
      "me:0.0637927825016148\n",
      "----------PC2-------------\n",
      "art:-0.15431673143840427\n",
      "museum:-0.12089946277617686\n",
      "images:-0.09522680440744599\n",
      "artists:-0.09263497758879567\n",
      "donations:-0.0776578027798034\n",
      "museums:-0.07539497668344303\n",
      "painting:-0.07401963974238236\n",
      "tax:-0.07226860058901596\n",
      "paintings:-0.06564345120814837\n",
      "sculpture:-0.06035313871840548\n",
      "gallery:-0.05515928883067874\n",
      "sculptures:-0.05147913929381121\n",
      "painted:-0.05013831346292909\n",
      "white:-0.04966737533217046\n",
      "service:-0.0466642197571161\n",
      "--------------------------\n",
      "her:0.2207847582158726\n",
      "she:0.21307376342525192\n",
      "theater:0.16239059851001333\n",
      "opera:0.12992637535456933\n",
      "ms:0.12447032686713205\n",
      "i:0.08120155281056592\n",
      "hour:0.08075865381307702\n",
      "sang:0.07465343667556072\n",
      "production:0.07415772534187776\n",
      "festival:0.07300940791699446\n",
      "music:0.07234461523901593\n",
      "musical:0.07070817873039481\n",
      "songs:0.0692316795363034\n",
      "orchestra:0.0676028578560083\n",
      "vocal:0.06758794058200357\n"
     ]
    }
   ],
   "source": [
    "k = 15\n",
    "attributes = df.columns.values[9:]\n",
    "pc1 = pca.components_[0]\n",
    "sorted = list(np.argsort(pc1))\n",
    "print('----------PC1-------------')\n",
    "for i in range(0, k): \n",
    "    print(attributes[sorted[i]] + ':' + repr(pc1[sorted[i]]))\n",
    "print('--------------------------')\n",
    "sorted.reverse()\n",
    "for i in range(0, k): \n",
    "    print(attributes[sorted[i]] + ':' + repr(pc1[sorted[i]]))\n",
    "pc2 = pca.components_[1]\n",
    "sorted = list(np.argsort(pc2))\n",
    "print('----------PC2-------------')\n",
    "for i in range(0, k): \n",
    "    print(attributes[sorted[i]] + ':' + repr(pc2[sorted[i]]))\n",
    "print('--------------------------')\n",
    "sorted.reverse()\n",
    "for i in range(0, k): \n",
    "    print(attributes[sorted[i]] + ':' + repr(pc2[sorted[i]]))"
   ]
  },
  {
   "cell_type": "code",
   "execution_count": 28,
   "metadata": {},
   "outputs": [
    {
     "data": {
      "image/png": "[encoded data removed]",
      "text/plain": [
       "<Figure size 432x288 with 1 Axes>"
      ]
     },
     "metadata": {
      "needs_background": "light"
     },
     "output_type": "display_data"
    }
   ],
   "source": [
    "variance = pca.explained_variance_\n",
    "plt.plot(variance, 'ro')\n",
    "plt.show()"
   ]
  },
  {
   "cell_type": "code",
   "execution_count": 29,
   "metadata": {},
   "outputs": [
    {
     "data": {
      "image/png": "[encoded data removed]",
      "text/plain": [
       "<Figure size 432x288 with 1 Axes>"
      ]
     },
     "metadata": {
      "needs_background": "light"
     },
     "output_type": "display_data"
    },
    {
     "name": "stdout",
     "output_type": "stream",
     "text": [
      "0.15773478029003488\n"
     ]
    }
   ],
   "source": [
    "variance_ratio = pca.explained_variance_ratio_\n",
    "plt.plot(variance_ratio, 'ro')\n",
    "plt.show()\n",
    "print(sum(variance_ratio[0:10]))"
   ]
  }
 ],
 "metadata": {
  "anaconda-cloud": {},
  "kernelspec": {
   "display_name": "Python 3",
   "language": "python",
   "name": "python3"
  },
  "language_info": {
   "codemirror_mode": {
    "name": "ipython",
    "version": 3
   },
   "file_extension": ".py",
   "mimetype": "text/x-python",
   "name": "python",
   "nbconvert_exporter": "python",
   "pygments_lexer": "ipython3",
   "version": "3.7.6"
  }
 },
 "nbformat": 4,
 "nbformat_minor": 1
}
